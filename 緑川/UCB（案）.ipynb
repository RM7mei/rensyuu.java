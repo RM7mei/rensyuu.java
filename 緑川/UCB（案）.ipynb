{
 "cells": [
  {
   "cell_type": "code",
   "execution_count": 4,
   "metadata": {},
   "outputs": [],
   "source": [
    "def get_UCB(score_increase,imp,num_ser,num_play_sum):\n",
    "    from math import sqrt\n",
    "    from math import log\n",
    "    UCB=score_increase+imp*sqrt(2*log(num_play_sum)/num_ser)\n",
    "    return UCB\n",
    "#score_increaseはスコアの増加量の平均（敵との比較をプラスしてもよい）\n",
    "#impはバランス取りの値　\n",
    "#num_play_sumは総選択数\n",
    "#num_serはその行動の選択数"
   ]
  }
 ],
 "metadata": {
  "kernelspec": {
   "display_name": "Python 3",
   "language": "python",
   "name": "python3"
  },
  "language_info": {
   "codemirror_mode": {
    "name": "ipython",
    "version": 3
   },
   "file_extension": ".py",
   "mimetype": "text/x-python",
   "name": "python",
   "nbconvert_exporter": "python",
   "pygments_lexer": "ipython3",
   "version": "3.7.3"
  }
 },
 "nbformat": 4,
 "nbformat_minor": 2
}
