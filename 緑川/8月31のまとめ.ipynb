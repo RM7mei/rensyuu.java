{
 "cells": [
  {
   "cell_type": "code",
   "execution_count": 7,
   "metadata": {},
   "outputs": [],
   "source": [
    "def get_winner(points,tiled,width,height):\n",
    "    score_1=culsco(points,tiled,width,height)\n",
    "    reverse_one_two(tiled,width,height)\n",
    "    score_2=culsco(points,tiled,width,height)\n",
    "    reverse_one_two(tiled,width,height)\n",
    "    if score_1>score_2:\n",
    "        return 1#勝ち\n",
    "    elif score_1<score_2:\n",
    "        return -1#負け\n",
    "    else:\n",
    "        return 0#引き分け"
   ]
  },
  {
   "cell_type": "code",
   "execution_count": 1,
   "metadata": {},
   "outputs": [
    {
     "name": "stdout",
     "output_type": "stream",
     "text": [
      "[[1 1 1 1]\n",
      " [1 1 1 1]\n",
      " [1 1 1 1]]\n",
      "[0 0 0 0 0 0 0 0 0 0]\n",
      "[0. 0. 0. 0. 0. 0. 0. 0. 0. 0.]\n"
     ]
    }
   ],
   "source": [
    "import numpy as np\n",
    "one=np.ones((3,4),dtype=int)\n",
    "zero=np.zeros(10,dtype=int)\n",
    "zero_h=np.zeros(10)\n",
    "print(one)\n",
    "print(zero)\n",
    "print(zero_h)"
   ]
  },
  {
   "cell_type": "code",
   "execution_count": 6,
   "metadata": {},
   "outputs": [],
   "source": [
    "def get_winner2(points,tiled,width,height):\n",
    "    dif=get_difference(points,tiled,width,height)\n",
    "    if dif>0:\n",
    "        return \"win\"#sign あとで考える\n",
    "    elif dif<0:\n",
    "        return \"lose\"\n",
    "    else:\n",
    "        return \"draw\""
   ]
  },
  {
   "cell_type": "code",
   "execution_count": 4,
   "metadata": {},
   "outputs": [],
   "source": [
    "def get_difference(points,tiled,width,height):\n",
    "    score_1=culsco(points,tiled,width,height)\n",
    "    reverse_one_two(tiled,width,height)\n",
    "    score_2=culsco(points,tiled,width,height)\n",
    "    reverse_one_two(tiled,width,height)\n",
    "    return score_1-score_2"
   ]
  },
  {
   "cell_type": "code",
   "execution_count": null,
   "metadata": {},
   "outputs": [],
   "source": [
    "def reverse_one_two(tiled,width,height):#１と2の交換\n",
    "    for i in range(height):\n",
    "        for j in range(width):\n",
    "            if tiled[i][j]==1:\n",
    "                tiled[i][j]=2\n",
    "            if tiled[i][j]==2:\n",
    "                tiled[i][j]=1"
   ]
  },
  {
   "cell_type": "code",
   "execution_count": 3,
   "metadata": {},
   "outputs": [],
   "source": [
    "def culsco(points,tiled,width,height):\n",
    "    tl=cir2(tiled,width,height)\n",
    "    score=0\n",
    "    for i in range(height):\n",
    "        for j in range(width):\n",
    "            if tl[i][j]==4:\n",
    "                score+=abs(points[i][j])\n",
    "            if tl[i][j]==9:\n",
    "                score+=points[i][j]\n",
    "    return score"
   ]
  },
  {
   "cell_type": "code",
   "execution_count": 8,
   "metadata": {},
   "outputs": [],
   "source": [
    "def culsco2(points,tiled,width,height):\n",
    "    tl=cir2(tiled,width,height)\n",
    "    score=[0,0]\n",
    "    for i in range(height):\n",
    "        for j in range(width):\n",
    "            if tl[i][j]==4:\n",
    "                score[1]+=abs(points[i][j])\n",
    "            if tl[i][j]==9:\n",
    "                score[0]+=points[i][j]\n",
    "    return score"
   ]
  },
  {
   "cell_type": "code",
   "execution_count": 2,
   "metadata": {},
   "outputs": [],
   "source": [
    " def cir2(tiled,width,height):\n",
    "    c=[]\n",
    "    for i in range(height):\n",
    "        o=[]\n",
    "        for n in range(width):\n",
    "            o.append(0)\n",
    "        c.append(o)\n",
    "    for i in range(height):\n",
    "        for n in range(width):\n",
    "            if tiled[i][n]==1:\n",
    "                c[i][n]=9\n",
    "                for k in range(width):\n",
    "                    if k+1>n:\n",
    "                        break\n",
    "                    elif tiled[i][n-k-1]==1:\n",
    "                        break\n",
    "                    c[i][n-k-1]+=1\n",
    "                for k in range(width):\n",
    "                    if n+k+1>=width:\n",
    "                        break\n",
    "                    elif tiled[i][n+k+1]==1:\n",
    "                        break\n",
    "                    c[i][n+k+1]+=1\n",
    "                for k in range(height):\n",
    "                    if k+1>i:\n",
    "                        break\n",
    "                    elif tiled[i-k-1][n]==1:\n",
    "                        break\n",
    "                    c[i-k-1][n]+=1\n",
    "                for k in range(height):\n",
    "                    if i+k+1>=height:\n",
    "                        break\n",
    "                    elif tiled[i+k+1][n]==1:\n",
    "                        break\n",
    "                    c[i+k+1][n]+=1\n",
    "    if not c[height-1][width-1]==9:\n",
    "        c[height-1][width-1]=0\n",
    "    if not c[height-1][0]==9:\n",
    "        c[height-1][0]=0\n",
    "    if not c[0][width-1]==9:\n",
    "        c[0][width-1]=0\n",
    "    if not c[0][0]==9:\n",
    "        c[0][0]=0\n",
    "    for s in range(width*height):\n",
    "        count_exe=0\n",
    "        for n in range(height):\n",
    "            for i in range(width):\n",
    "                if c[n][i]<4:\n",
    "                    if n-1>=0:\n",
    "                        if 0<c[n-1][i]<9:\n",
    "                            c[n-1][i]=0\n",
    "                            count_exe+=1\n",
    "                    if i-1>=0:\n",
    "                        if 0<c[n][i-1]<9:\n",
    "                            c[n][i-1]=0\n",
    "                            count_exe+=1\n",
    "                    if n+1<len(b):\n",
    "                        if 0<c[n+1][i]<9:\n",
    "                            c[n+1][i]=0\n",
    "                            count_exe+=1\n",
    "                    if i+1<len(b[n]):\n",
    "                        if 0<c[n][i+1]<9:\n",
    "                            c[n][i+1]=0\n",
    "                            count_exe+=1\n",
    "        if count_exe==0:\n",
    "            break\n",
    "    return c"
   ]
  }
 ],
 "metadata": {
  "kernelspec": {
   "display_name": "Python 3",
   "language": "python",
   "name": "python3"
  },
  "language_info": {
   "codemirror_mode": {
    "name": "ipython",
    "version": 3
   },
   "file_extension": ".py",
   "mimetype": "text/x-python",
   "name": "python",
   "nbconvert_exporter": "python",
   "pygments_lexer": "ipython3",
   "version": "3.7.3"
  }
 },
 "nbformat": 4,
 "nbformat_minor": 2
}
