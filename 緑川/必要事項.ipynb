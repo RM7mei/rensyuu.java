{
 "cells": [
  {
   "cell_type": "code",
   "execution_count": null,
   "metadata": {},
   "outputs": [],
   "source": [
    "#読み込む\n",
    "#ボード上の1の数を数える\n",
    "#agent1に対して現在を評価。行動を指示　agentの位置移動を行う\n",
    "#agent2に対して以下略\n",
    "#念頭事項\n",
    "#相手のプレイヤーがいるところへは進めない\n",
    "#相手のマスへは進めない\n",
    "#盤面外へは進めない\n",
    "#現在のターンによってAIを変えてもよい\n",
    "#時間に余裕があるなら複数作る\n",
    "#仮想ボードは作る必要がありそう\n",
    "#break失敗時とmove失敗時についての判断も必要"
   ]
  }
 ],
 "metadata": {
  "kernelspec": {
   "display_name": "Python 3",
   "language": "python",
   "name": "python3"
  },
  "language_info": {
   "codemirror_mode": {
    "name": "ipython",
    "version": 3
   },
   "file_extension": ".py",
   "mimetype": "text/x-python",
   "name": "python",
   "nbconvert_exporter": "python",
   "pygments_lexer": "ipython3",
   "version": "3.7.3"
  }
 },
 "nbformat": 4,
 "nbformat_minor": 2
}
