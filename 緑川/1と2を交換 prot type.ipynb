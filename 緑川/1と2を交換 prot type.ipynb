{
 "cells": [
  {
   "cell_type": "code",
   "execution_count": null,
   "metadata": {},
   "outputs": [],
   "source": [
    "def rever():#１と2の交換\n",
    "    #count_1=0\n",
    "    #count_2=0\n",
    "    for i in range(heigth):\n",
    "        for j in range(width):\n",
    "            if tiled[i][j]==1:\n",
    "                tiled[i][j]=2\n",
    "                #count_1+=1\n",
    "            if tiled[i][j]==2:\n",
    "                tiled[i][j]=1\n",
    "                #count_2+=1\n",
    "            #if you need to exchange agents number,execute below program\n",
    "    #for i in range(count_1):\n",
    "    #    teamID の2のところのagentnumberがi+count_1のところにiを格納\n",
    "    #for i in range(count_2):\n",
    "    #    agent number がiのところにi+count_1のやつを格納"
   ]
  }
 ],
 "metadata": {
  "kernelspec": {
   "display_name": "Python 3",
   "language": "python",
   "name": "python3"
  },
  "language_info": {
   "codemirror_mode": {
    "name": "ipython",
    "version": 3
   },
   "file_extension": ".py",
   "mimetype": "text/x-python",
   "name": "python",
   "nbconvert_exporter": "python",
   "pygments_lexer": "ipython3",
   "version": "3.7.3"
  }
 },
 "nbformat": 4,
 "nbformat_minor": 2
}
