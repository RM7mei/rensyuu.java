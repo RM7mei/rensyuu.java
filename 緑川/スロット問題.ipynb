{
 "cells": [
  {
   "cell_type": "code",
   "execution_count": 2,
   "metadata": {},
   "outputs": [],
   "source": [
    "from random import choice\n",
    "from random import randint\n",
    "from math import log\n",
    "from math import sqrt\n",
    "def srot1():\n",
    "    return randint(1,10)#期待値　55/10=5.5\n",
    "def srot2():\n",
    "    return choice([0]*8+[10,20])#30/10=3\n",
    "def srot3():\n",
    "    return choice([1]*5+[2]*5+[3]*5+[4]*5+[5]*10)#100/30=3.333\n",
    "def srot4():\n",
    "    return 2.5#2.5\n",
    "def srot5():\n",
    "    return choice([0]*99+[100])#2\n",
    "def UCB(mean,total_coin,coin,X):\n",
    "    return mean+X*sqrt((2*log(total_coin)/coin))"
   ]
  },
  {
   "cell_type": "code",
   "execution_count": 23,
   "metadata": {},
   "outputs": [
    {
     "name": "stdout",
     "output_type": "stream",
     "text": [
      "[9780, 57, 106, 47, 15]\n",
      "[5.441002044989775, 2.807017543859649, 3.556603773584906, 2.5, 0.0]\n"
     ]
    }
   ],
   "source": [
    "def main(X,play_num):\n",
    "    from numpy import argmax\n",
    "    srots=[srot1,srot2,srot3,srot4,srot5]\n",
    "    total_values=[srot() for srot in srots]\n",
    "    mean_values = total_values.copy()\n",
    "    total_coin = len(mean_values)\n",
    "    coins=[1]*len(mean_values)\n",
    "    search_num=[1]*len(mean_values)\n",
    "    \n",
    "    for i in range(play_num):#argmaxは最大値のある場所を返す\n",
    "        max_ucb= \\\n",
    "            argmax([UCB(mean,total_coin,coin,X)\\\n",
    "                for mean,coin in zip(mean_values,coins)])#zip;リストをまとめて取得できる\n",
    "        #値の更新\n",
    "        coins[max_ucb]+=1\n",
    "        total_coin+=1\n",
    "        value=srots[max_ucb]()\n",
    "        total_values[max_ucb]+=value\n",
    "        mean_values[max_ucb]=total_values[max_ucb]/coins[max_ucb]\n",
    "        search_num[max_ucb]+=1\n",
    "    print(search_num)\n",
    "    print(mean_values)\n",
    "if __name__ ==\"__main__\":#このファイルがimportされただけのときに上記が実行されないようにするもの\n",
    "    main(5,10000)#参考https://qiita.com/nanakrk965/items/6477911a13972c437ec5"
   ]
  }
 ],
 "metadata": {
  "kernelspec": {
   "display_name": "Python 3",
   "language": "python",
   "name": "python3"
  },
  "language_info": {
   "codemirror_mode": {
    "name": "ipython",
    "version": 3
   },
   "file_extension": ".py",
   "mimetype": "text/x-python",
   "name": "python",
   "nbconvert_exporter": "python",
   "pygments_lexer": "ipython3",
   "version": "3.7.3"
  }
 },
 "nbformat": 4,
 "nbformat_minor": 2
}
