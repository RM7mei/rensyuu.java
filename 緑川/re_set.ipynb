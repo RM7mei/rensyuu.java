{
 "cells": [
  {
   "cell_type": "code",
   "execution_count": 1,
   "metadata": {},
   "outputs": [],
   "source": [
    "def re_set_agent(acted,agent):#actedは直前にした行動 相手と行動がかぶった時に使う\n",
    "    if acted == 1:\n",
    "        agent[\"x\"]=agent[\"x\"]+1\n",
    "        agent[\"y\"]=agent[\"y\"]+1\n",
    "        return agent\n",
    "    if acted == 2:\n",
    "        agent[\"y\"]=agent[\"y\"]+1\n",
    "        return agent\n",
    "    if acted == 3:\n",
    "        agent[\"x\"]=agent[\"x\"]-1\n",
    "        agent[\"y\"]=agent[\"y\"]+1\n",
    "        return agent\n",
    "    if acted == 4:\n",
    "        agent[\"x\"]=agent[\"x\"]+1\n",
    "        return agent\n",
    "    if acted == 5:\n",
    "        return agent\n",
    "    if acted == 6:\n",
    "        agent[\"x\"]=agent[\"x\"]-1\n",
    "        return agent\n",
    "    if acted == 7:\n",
    "        agent[\"x\"]=agent[\"x\"]+1\n",
    "        agent[\"y\"]=agent[\"y\"]-1\n",
    "        return agent\n",
    "    if acted == 8:\n",
    "        agent[\"y\"]=agent[\"y\"]-1\n",
    "        return agent\n",
    "    if acted == 9:\n",
    "        agent[\"x\"]=agent[\"x\"]-1\n",
    "        agent[\"y\"]=agent[\"y\"]-1\n",
    "        return agent"
   ]
  },
  {
   "cell_type": "code",
   "execution_count": 2,
   "metadata": {},
   "outputs": [],
   "source": [
    " def re_set_tiled_1(acted,agent,tiled,breaked):\n",
    "    if act == 1:#if UP_LEFT==1\n",
    "        tiled[agent[\"y\"]-2][agent[\"x\"]-2]=breaked\n",
    "        return tiled\n",
    "    if act == 2:#if UP==2\n",
    "        tiled[agent[\"y\"]-2][agent[\"x\"]-1]=breaked\n",
    "        return tiled\n",
    "    if act == 3:#if UP_RIGHT==3\n",
    "        tiled[agent[\"y\"]-2][agent[\"x\"]]=breaked\n",
    "        return tiled\n",
    "    if act == 4:#if LEFT==4\n",
    "        tiled[agent[\"y\"]-1][agent[\"x\"]-2]=breaked\n",
    "        return tiled\n",
    "    if act == 6:#if RIGHT==6\n",
    "        tiled[agent[\"y\"]-1][agent[\"x\"]]=breaked\n",
    "        return tiled\n",
    "    if act == 7:#if DOWN_LEFT==7\n",
    "        tiled[agent[\"y\"]][agent[\"x\"]-2]=breaked\n",
    "        return tiled\n",
    "    if act == 8:#if DOWN==8\n",
    "        tiled[agent[\"y\"]][agent[\"x\"]-1]=breaked\n",
    "        return tiled\n",
    "    if act == 9:#if DOWN_RIGHT==9\n",
    "        tiled[agent[\"y\"]][agent[\"x\"]]=breaked\n",
    "        return tiled\n",
    "    return False"
   ]
  },
  {
   "cell_type": "code",
   "execution_count": 3,
   "metadata": {},
   "outputs": [],
   "source": [
    "def re_set_tiled_0(acted,agent,tiled):\n",
    "    if acted == 1:#if UP_LEFT==1\n",
    "        tiled[agent[\"y\"]-2][agent[\"x\"]-2]=0\n",
    "        return tiled\n",
    "    if acted == 2:#if UP==2\n",
    "        tiled[agent[\"y\"]-2][agent[\"x\"]-1]=0\n",
    "        return tiled\n",
    "    if acted == 3:#if UP_RIGHT==3\n",
    "        tiled[agent[\"y\"]-2][agent[\"x\"]]=0\n",
    "        return tiled\n",
    "    if acted == 4:#if LEFT==4\n",
    "        tiled[agent[\"y\"]-1][agent[\"x\"]-2]=0\n",
    "        return tiled\n",
    "    if acted == 5:\n",
    "        pass#一応書いておくだけ\n",
    "    if acted == 6:#if RIGHT==6\n",
    "        tiled[agent[\"y\"]-1][agent[\"x\"]]=0\n",
    "        return tiled\n",
    "    if acted == 7:#if DOWN_LEFT==7\n",
    "        tiled[agent[\"y\"]][agent[\"x\"]-2]=0\n",
    "        return tiled\n",
    "    if acted == 8:#if DOWN==8\n",
    "        tiled[agent[\"y\"]][agent[\"x\"]-1]=0\n",
    "        return tiled\n",
    "    if acted == 9:#if DOWN_RIGHT==9\n",
    "        tiled[agent[\"y\"]][agent[\"x\"]]=0\n",
    "        return tiled\n",
    "    return False"
   ]
  },
  {
   "cell_type": "code",
   "execution_count": 4,
   "metadata": {},
   "outputs": [],
   "source": [
    "def re_set_action(acted,agent,tiled,breaked):#scoreは他で\n",
    "    if acted[0] == \"move\" or acted[0] == \"MOVE\":\n",
    "        agent=re_set_agent(acted[1],agent)\n",
    "        tiled=re_set_tiled_0(acted[1],agent,tiled)\n",
    "        return [tiled,agent]\n",
    "    if acted[0] == \"break\" or acted[0] == \"BREAK\":\n",
    "        tiled=re_set_tiled_1(acted[1],agent,tiled,breaked)\n",
    "        return [tiled]"
   ]
  },
  {
   "cell_type": "code",
   "execution_count": null,
   "metadata": {},
   "outputs": [],
   "source": []
  },
  {
   "cell_type": "code",
   "execution_count": null,
   "metadata": {},
   "outputs": [],
   "source": []
  },
  {
   "cell_type": "code",
   "execution_count": null,
   "metadata": {},
   "outputs": [],
   "source": []
  }
 ],
 "metadata": {
  "kernelspec": {
   "display_name": "Python 3",
   "language": "python",
   "name": "python3"
  },
  "language_info": {
   "codemirror_mode": {
    "name": "ipython",
    "version": 3
   },
   "file_extension": ".py",
   "mimetype": "text/x-python",
   "name": "python",
   "nbconvert_exporter": "python",
   "pygments_lexer": "ipython3",
   "version": "3.7.3"
  }
 },
 "nbformat": 4,
 "nbformat_minor": 2
}
