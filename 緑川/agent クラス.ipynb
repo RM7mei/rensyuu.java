{
 "cells": [
  {
   "cell_type": "code",
   "execution_count": null,
   "metadata": {},
   "outputs": [],
   "source": [
    "class agent:#一応クラス定義　多分使わん\n",
    "    ID=0\n",
    "    @classmethod\n",
    "    def count_agent(cls):\n",
    "        cls.ID+=1\n",
    "    def __init__(self,x=0,y=0):\n",
    "        agent.count_agent()\n",
    "        self.ID=agent.ID\n",
    "        self.x=x\n",
    "        self.y=y\n",
    "    def move(self,x=0,y=0):\n",
    "        self.x=x\n",
    "        self.y=y"
   ]
  }
 ],
 "metadata": {
  "kernelspec": {
   "display_name": "Python 3",
   "language": "python",
   "name": "python3"
  },
  "language_info": {
   "codemirror_mode": {
    "name": "ipython",
    "version": 3
   },
   "file_extension": ".py",
   "mimetype": "text/x-python",
   "name": "python",
   "nbconvert_exporter": "python",
   "pygments_lexer": "ipython3",
   "version": "3.7.3"
  }
 },
 "nbformat": 4,
 "nbformat_minor": 2
}
