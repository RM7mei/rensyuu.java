{
 "cells": [
  {
   "cell_type": "code",
   "execution_count": 23,
   "metadata": {},
   "outputs": [
    {
     "name": "stdout",
     "output_type": "stream",
     "text": [
      "8 2\n"
     ]
    }
   ],
   "source": [
    "from random import randint\n",
    "while True:\n",
    "    a= randint(1,10)\n",
    "    b= randint(0,10)\n",
    "    if (a+b)==10:\n",
    "        break\n",
    "print(a,b)"
   ]
  },
  {
   "cell_type": "code",
   "execution_count": 27,
   "metadata": {},
   "outputs": [
    {
     "name": "stdout",
     "output_type": "stream",
     "text": [
      "100+88は？188\n",
      "188\n"
     ]
    }
   ],
   "source": [
    "from random import randint as ri \n",
    "\n",
    "a=ri(1,100)\n",
    "b=ri(1,100)\n",
    "question=f\"{a}+{b}は？\"\n",
    "a=input(question)\n",
    "print(a)"
   ]
  },
  {
   "cell_type": "raw",
   "metadata": {},
   "source": [
    "3"
   ]
  },
  {
   "cell_type": "code",
   "execution_count": 29,
   "metadata": {},
   "outputs": [
    {
     "name": "stdout",
     "output_type": "stream",
     "text": [
      "[26, 62, 20, 36, 98, 60, 85, 63, 33, 23]\n"
     ]
    }
   ],
   "source": [
    "numbers =[]\n",
    "while len(numbers) < 10:\n",
    "    n=ri(1,100)\n",
    "    if n in numbers:\n",
    "        continue\n",
    "    numbers.append(n)\n",
    "print(numbers)"
   ]
  },
  {
   "cell_type": "code",
   "execution_count": 39,
   "metadata": {},
   "outputs": [
    {
     "name": "stdout",
     "output_type": "stream",
     "text": [
      "中断されました\n"
     ]
    }
   ],
   "source": [
    "numbers =[]\n",
    "while len(numbers) < 10:\n",
    "    n=ri(-10,90)\n",
    "    if n < 0:\n",
    "        print(\"中断されました\")\n",
    "        break\n",
    "    if n in numbers:\n",
    "        continue\n",
    "    numbers.append(n)\n",
    "else:\n",
    "    print(numbers)#breakの時は実行されない　whileループ終了時に実行"
   ]
  },
  {
   "cell_type": "code",
   "execution_count": 52,
   "metadata": {},
   "outputs": [
    {
     "name": "stdout",
     "output_type": "stream",
     "text": [
      "red\n",
      "blue\n",
      "yellow\n",
      "pink\n",
      "1\n",
      "10\n",
      "19\n",
      "28\n",
      "37\n",
      "46\n",
      "55\n",
      "64\n",
      "73\n",
      "82\n",
      "91\n"
     ]
    }
   ],
   "source": [
    "colors = [\"red\",\"blue\",\"yellow\",\"pink\"]\n",
    "for name  in colors:\n",
    "    print(name)\n",
    "for i in range(1,100,9):\n",
    "    print(i)"
   ]
  },
  {
   "cell_type": "code",
   "execution_count": 59,
   "metadata": {},
   "outputs": [
    {
     "name": "stdout",
     "output_type": "stream",
     "text": [
      "x 数値ではありません\n"
     ]
    }
   ],
   "source": [
    "numlist=[1,2,3,3,4,5,5,6,4,'x',3,2,4]\n",
    "sum = 0\n",
    "for num in numlist:\n",
    "    if not isinstance(num,(int,float)):#numがintかfloatでないとき\n",
    "        print(num,\"数値ではない値が含まれていました\")\n",
    "        break\n",
    "    sum += num\n",
    "else:#breakされなければ実行\n",
    "    print(num,\"/\",sum)"
   ]
  },
  {
   "cell_type": "code",
   "execution_count": 61,
   "metadata": {},
   "outputs": [
    {
     "name": "stdout",
     "output_type": "stream",
     "text": [
      "何個買いますか？(qで終了)67\n",
      "金額 8040\n",
      "This is finally execute.\n",
      "But, not final.\n",
      "何個買いますか？(qで終了)hi\n",
      "エラーです。正しい数値を入力してください。\n",
      "This is finally execute.\n",
      "But, not final.\n",
      "何個買いますか？(qで終了)mn7\n",
      "エラーです。正しい数値を入力してください。\n",
      "This is finally execute.\n",
      "But, not final.\n",
      "何個買いますか？(qで終了)q\n",
      "終了しました\n"
     ]
    }
   ],
   "source": [
    "while True:\n",
    "    num = input(\"何個買いますか？(qで終了)\")\n",
    "    if num == \"q\":\n",
    "        print(\"終了しました\" )\n",
    "        break\n",
    "    try:\n",
    "        price = 120*int(num)\n",
    "        print(\"金額\",price)\n",
    "    except:\n",
    "        print(\"エラーです。正しい数値を入力してください。\")\n",
    "    finally:\n",
    "        print(\"This is finally execute.\",\"But, not final Haha.\",sep =\"\\n\")"
   ]
  },
  {
   "cell_type": "code",
   "execution_count": 62,
   "metadata": {},
   "outputs": [
    {
     "name": "stdout",
     "output_type": "stream",
     "text": [
      "ここに10000円があります.\n",
      "これを何人で分けますか？(qで終了)3\n",
      "1人当たり3333円となります\n",
      "ここに10000円があります.\n",
      "これを何人で分けますか？(qで終了)jhj\n",
      "数値を入れてください\n",
      "ここに10000円があります.\n",
      "これを何人で分けますか？(qで終了)0\n",
      "0以外の値を入れてください\n",
      "ここに10000円があります.\n",
      "これを何人で分けますか？(qで終了)-9\n",
      "正の値を入力してください\n",
      "ここに10000円があります.\n",
      "これを何人で分けますか？(qで終了)8776\n",
      "1人当たり1円となります\n",
      "ここに10000円があります.\n",
      "これを何人で分けますか？(qで終了)97\n",
      "1人当たり103円となります\n",
      "ここに10000円があります.\n",
      "これを何人で分けますか？(qで終了)q\n",
      "終了しました\n"
     ]
    }
   ],
   "source": [
    "while True:\n",
    "    num =input(\"ここに10000円があります.\\nこれを何人で分けますか？(qで終了)\")\n",
    "    if num == \"q\":\n",
    "        print(\"終了しました\")\n",
    "        break\n",
    "    try:\n",
    "        price=round(10000/int(num))\n",
    "        if price <0:\n",
    "            print(\"正の値を入力してください\")\n",
    "            continue\n",
    "        print(\"1人当たり\",price,\"円となります\",sep=\"\")\n",
    "    except ValueError:\n",
    "        print(\"数値を入れてください\")\n",
    "    except ZeroDivisionError:\n",
    "        print(\"0以外の値を入れてください\")"
   ]
  },
  {
   "cell_type": "code",
   "execution_count": null,
   "metadata": {},
   "outputs": [],
   "source": []
  },
  {
   "cell_type": "code",
   "execution_count": null,
   "metadata": {},
   "outputs": [],
   "source": []
  },
  {
   "cell_type": "code",
   "execution_count": 1,
   "metadata": {},
   "outputs": [
    {
     "name": "stdout",
     "output_type": "stream",
     "text": [
      "ここに10000円があります.\n",
      "これを何人で分けますか？(qで終了)ygy\n",
      "エラーになりました\n",
      "invalid literal for int() with base 10: 'ygy'\n",
      "ここに10000円があります.\n",
      "これを何人で分けますか？(qで終了)q\n",
      "終了しました\n"
     ]
    }
   ],
   "source": [
    "while True:\n",
    "    num =input(\"ここに10000円があります.\\nこれを何人で分けますか？(qで終了)\")\n",
    "    if num == \"q\":\n",
    "        print(\"終了しました\")\n",
    "        break\n",
    "    try:\n",
    "        price=round(10000/int(num))\n",
    "    except Exception as error:\n",
    "        print(\"エラーになりました\")\n",
    "        print(error)\n",
    "    else:\n",
    "        if price <0:\n",
    "            print(\"正の値を入力してください\")\n",
    "            continue\n",
    "        print(\"1人当たり\",price,\"円となります\",sep=\"\")"
   ]
  }
 ],
 "metadata": {
  "kernelspec": {
   "display_name": "Python 3",
   "language": "python",
   "name": "python3"
  },
  "language_info": {
   "codemirror_mode": {
    "name": "ipython",
    "version": 3
   },
   "file_extension": ".py",
   "mimetype": "text/x-python",
   "name": "python",
   "nbconvert_exporter": "python",
   "pygments_lexer": "ipython3",
   "version": "3.7.3"
  }
 },
 "nbformat": 4,
 "nbformat_minor": 2
}
