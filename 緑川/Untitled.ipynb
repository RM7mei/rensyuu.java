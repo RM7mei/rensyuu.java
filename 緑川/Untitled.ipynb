{
 "cells": [
  {
   "cell_type": "code",
   "execution_count": 13,
   "metadata": {},
   "outputs": [
    {
     "name": "stdout",
     "output_type": "stream",
     "text": [
      "30 \t 30\n"
     ]
    }
   ],
   "source": [
    "a = 10\n",
    "b = 20\n",
    "'''\n",
    "comment\n",
    "'''\n",
    "ans = a + b\n",
    "print(ans,\"\\t\",ans)"
   ]
  },
  {
   "cell_type": "code",
   "execution_count": 10,
   "metadata": {
    "scrolled": true
   },
   "outputs": [
    {
     "name": "stdout",
     "output_type": "stream",
     "text": [
      "10\n"
     ]
    }
   ],
   "source": [
    "ans = 1+2+\\\n",
    "3+4\n",
    "\"\"\"\n",
    "comment\n",
    "\"\"\"\n",
    "print(ans)"
   ]
  },
  {
   "cell_type": "code",
   "execution_count": 4,
   "metadata": {},
   "outputs": [
    {
     "name": "stdout",
     "output_type": "stream",
     "text": [
      "10\n"
     ]
    }
   ],
   "source": [
    "print(ans) #comment"
   ]
  },
  {
   "cell_type": "code",
   "execution_count": 18,
   "metadata": {},
   "outputs": [
    {
     "name": "stdout",
     "output_type": "stream",
     "text": [
      "15.0\n",
      "2\n",
      "3.1\n"
     ]
    }
   ],
   "source": [
    "print(30.5//2)\n",
    "print(round(2.5))\n",
    "print(round(3.15,1))"
   ]
  },
  {
   "cell_type": "code",
   "execution_count": 7,
   "metadata": {},
   "outputs": [
    {
     "data": {
      "text/plain": [
       "(-1+0j)"
      ]
     },
     "execution_count": 7,
     "metadata": {},
     "output_type": "execute_result"
    }
   ],
   "source": [
    "1j*1j"
   ]
  },
  {
   "cell_type": "code",
   "execution_count": 8,
   "metadata": {},
   "outputs": [
    {
     "name": "stdout",
     "output_type": "stream",
     "text": [
      "10,20,10終わり"
     ]
    }
   ],
   "source": [
    "print(a,b,ans,sep=\",\",end=\"終わり\")"
   ]
  },
  {
   "cell_type": "code",
   "execution_count": 28,
   "metadata": {},
   "outputs": [
    {
     "name": "stdout",
     "output_type": "stream",
     "text": [
      "junjinjinjinjinjin6回\tjinjinjinjinjinjinjinjinjinjin10回\n",
      "n n jin jin\n",
      "nijnijnijnijnij njinjinj\n"
     ]
    }
   ],
   "source": [
    "jun=\"jun\"\n",
    "jin5=\"jin\"*5\n",
    "jun+=jin5\n",
    "print(jun,jin5*2,sep=\"6回\\t\",end=\"10回\\n\")\n",
    "print(jin5[2],jin5[-1],jin5[:-12],jin5[3:3+3])\n",
    "len(jin5)\n",
    "print(jin5[::-1],jin5[::-2])"
   ]
  },
  {
   "cell_type": "code",
   "execution_count": 23,
   "metadata": {},
   "outputs": [
    {
     "name": "stdout",
     "output_type": "stream",
     "text": [
      "************\n",
      "****************************************************************************************************\n"
     ]
    }
   ],
   "source": [
    "symbol=\"*\"\n",
    "print(symbol * 12)\n",
    "print(symbol * 100)"
   ]
  },
  {
   "cell_type": "code",
   "execution_count": null,
   "metadata": {},
   "outputs": [],
   "source": []
  }
 ],
 "metadata": {
  "kernelspec": {
   "display_name": "Python 3",
   "language": "python",
   "name": "python3"
  },
  "language_info": {
   "codemirror_mode": {
    "name": "ipython",
    "version": 3
   },
   "file_extension": ".py",
   "mimetype": "text/x-python",
   "name": "python",
   "nbconvert_exporter": "python",
   "pygments_lexer": "ipython3",
   "version": "3.7.3"
  }
 },
 "nbformat": 4,
 "nbformat_minor": 2
}
