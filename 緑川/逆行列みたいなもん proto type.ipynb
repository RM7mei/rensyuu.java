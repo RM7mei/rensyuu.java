{
 "cells": [
  {
   "cell_type": "code",
   "execution_count": null,
   "metadata": {},
   "outputs": [],
   "source": [
    "def reverser(width,heigth,pointd,tiled,teams):#逆行列みたいなもん\n",
    "    ka=[]\n",
    "    k=[]\n",
    "    kka=[]\n",
    "    count_1=0\n",
    "    count_2=0\n",
    "    for i in range(width):\n",
    "        k.append(0)\n",
    "    for j in range(heigth):\n",
    "        ka.append(k)\n",
    "        kka.append(k)\n",
    "    for i in range(width):\n",
    "        for j in range(heigth):\n",
    "            ka[j][i]=tiled[i][j]\n",
    "            kka[j][i]=points[i][j]\n",
    "            if ka[j][i]==1:\n",
    "                count_1+=1\n",
    "            if ka[j][i]==2:\n",
    "                count_2+=1\n",
    "    for i in range(count_1):\n",
    "        #teams teamID=1 agents=i x,yを呼び出したい 呼び出し方わからんから後で調べる\n",
    "        #x=y,y=xにする\n",
    "    for i in range(count_2):\n",
    "        #上記同様 agents=i+count_1\n",
    "    return #all"
   ]
  }
 ],
 "metadata": {
  "kernelspec": {
   "display_name": "Python 3",
   "language": "python",
   "name": "python3"
  },
  "language_info": {
   "codemirror_mode": {
    "name": "ipython",
    "version": 3
   },
   "file_extension": ".py",
   "mimetype": "text/x-python",
   "name": "python",
   "nbconvert_exporter": "python",
   "pygments_lexer": "ipython3",
   "version": "3.7.3"
  }
 },
 "nbformat": 4,
 "nbformat_minor": 2
}
