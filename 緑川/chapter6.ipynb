{
 "cells": [
  {
   "cell_type": "code",
   "execution_count": 4,
   "metadata": {},
   "outputs": [
    {
     "name": "stdout",
     "output_type": "stream",
     "text": [
      "[3, 3, 2, 3, 3, 2, 3, 3, 2, 3, 3, 2, 3, 3, 2]\n",
      "[0, 2, 4, 6, 8, 10, 12, 14, 16, 18, 20, 22, 24, 26, 28, 30, 32, 34, 36, 38, 40, 42, 44, 46, 48, 50, 52, 54, 56, 58, 60, 62, 64, 66, 68, 70, 72, 74, 76, 78, 80, 82, 84, 86, 88, 90, 92, 94, 96, 98]\n"
     ]
    }
   ],
   "source": [
    "a=3\n",
    "b=3\n",
    "c=2\n",
    "abc=[a,b,c]*5\n",
    "b=90\n",
    "print(abc)\n",
    "evenlist=list(range(0,100,2))#list()でキャストしている\n",
    "print(evenlist)"
   ]
  },
  {
   "cell_type": "code",
   "execution_count": null,
   "metadata": {},
   "outputs": [],
   "source": []
  },
  {
   "cell_type": "code",
   "execution_count": 2,
   "metadata": {},
   "outputs": [
    {
     "name": "stdout",
     "output_type": "stream",
     "text": [
      "o ['c', 'i', 'l', 'o', 'r']\n"
     ]
    }
   ],
   "source": [
    "str1=\"color\"\n",
    "str2=list(\"color\")\n",
    "#str1[1]=\"i\" 実行不可能\n",
    "str2[1]=\"i\"\n",
    "print(str1,str2)"
   ]
  },
  {
   "cell_type": "code",
   "execution_count": 11,
   "metadata": {},
   "outputs": [
    {
     "name": "stdout",
     "output_type": "stream",
     "text": [
      "one\n",
      "[[1, 'one'], ['red']]\n",
      "[1, 'one']\n",
      "1\n"
     ]
    }
   ],
   "source": [
    "list_a=[[1,\"one\"],[2,\"two\"],[3,\"three\"]]\n",
    "list_b=[[[1,\"one\"],[\"red\"]],[[2,\"two\"],[\"blue\"]],[[3,\"three\"],[\"Greeen\"]]]\n",
    "print(list_a[0][1])\n",
    "print(list_b[0])\n",
    "print(list_b[0][0])\n",
    "print(list_b[0][0][0])"
   ]
  },
  {
   "cell_type": "code",
   "execution_count": 55,
   "metadata": {},
   "outputs": [
    {
     "data": {
      "text/plain": [
       "[[1, 'x', 3, 'x', 5, 'x', 7, 'x', 9],\n",
       " ['x', 11, 'x', 13, 'x', 15, 'x', 17, 'x', 19]]"
      ]
     },
     "execution_count": 55,
     "metadata": {},
     "output_type": "execute_result"
    }
   ],
   "source": [
    "#奇数だけのリスト作り　偶数は\"x\"になる\n",
    "id_one=list(range(1,10))\n",
    "id_two=list(range(10,20))\n",
    "ID=[id_one,id_two]\n",
    "for num in range(0,2):\n",
    "    for num2 in range(0,9,num+1):\n",
    "        num3 = num2\n",
    "        if num2%2 == 0 and num==0:\n",
    "            num3=num2+1\n",
    "        try:\n",
    "            ID[num][num3]=\"x\"\n",
    "        except:\n",
    "            continue\n",
    "ID"
   ]
  },
  {
   "cell_type": "code",
   "execution_count": 74,
   "metadata": {},
   "outputs": [
    {
     "data": {
      "text/plain": [
       "[['x', 1, 'x', 3, 'x', 5, 'x', 7, 'x', 9],\n",
       " ['x', 11, 'x', 13, 'x', 15, 'x', 17, 'x', 19]]"
      ]
     },
     "execution_count": 74,
     "metadata": {},
     "output_type": "execute_result"
    }
   ],
   "source": [
    "#奇数だけのリスト作り　偶数は\"x\"になる\n",
    "id_one=list(range(0,10))\n",
    "id_two=list(range(10,20))\n",
    "ID=[id_one,id_two]\n",
    "for num in range(0,2):\n",
    "    for num2 in range(0,10):\n",
    "        num3=num2\n",
    "        if num2%2==0:#1にすれば偶数だけになる\n",
    "            ID[num][num3]=\"x\"\n",
    "        \n",
    "ID "
   ]
  },
  {
   "cell_type": "code",
   "execution_count": 3,
   "metadata": {},
   "outputs": [
    {
     "name": "stdout",
     "output_type": "stream",
     "text": [
      "何番目の数を取り出しますか？(qで終了)gyftt\n",
      "invalid literal for int() with base 10: 'gyftt'\n",
      "何番目の数を取り出しますか？(qで終了)4\n",
      "4\n",
      "何番目の数を取り出しますか？(qで終了)45\n",
      "数が存在しないです\n",
      "何番目の数を取り出しますか？(qで終了)-6\n",
      "4\n",
      "何番目の数を取り出しますか？(qで終了)4g\n",
      "invalid literal for int() with base 10: '4g'\n",
      "何番目の数を取り出しますか？(qで終了)q\n"
     ]
    }
   ],
   "source": [
    "id_one=list(range(0,10))\n",
    "while True:\n",
    "    pos=input(\"何番目の数を取り出しますか？(qで終了)\")\n",
    "    if pos == \"q\":\n",
    "        break\n",
    "        \n",
    "    length=len(id_one)\n",
    "    try:\n",
    "        pos=int(pos) \n",
    "    except Exception as Error:\n",
    "        print(Error)\n",
    "    else:\n",
    "        if -length<=pos<length:\n",
    "            number = id_one[pos]\n",
    "            print(number)\n",
    "        else:\n",
    "            print(\"数が存在しないです\")"
   ]
  },
  {
   "cell_type": "code",
   "execution_count": 1,
   "metadata": {},
   "outputs": [
    {
     "data": {
      "text/plain": [
       "11"
      ]
     },
     "execution_count": 1,
     "metadata": {},
     "output_type": "execute_result"
    }
   ],
   "source": [
    "id_one=[]\n",
    "id_one.append(11)#後ろに追加\n",
    "id_one.insert(0,10)#前引数　挿入位置　後引数　挿入するもの\n",
    "id_one.pop(1)#引数　抜き取る対象の設定 x=pop(1)とすれば1番目の値がxに入る "
   ]
  },
  {
   "cell_type": "code",
   "execution_count": null,
   "metadata": {},
   "outputs": [],
   "source": []
  }
 ],
 "metadata": {
  "kernelspec": {
   "display_name": "Python 3",
   "language": "python",
   "name": "python3"
  },
  "language_info": {
   "codemirror_mode": {
    "name": "ipython",
    "version": 3
   },
   "file_extension": ".py",
   "mimetype": "text/x-python",
   "name": "python",
   "nbconvert_exporter": "python",
   "pygments_lexer": "ipython3",
   "version": "3.7.3"
  }
 },
 "nbformat": 4,
 "nbformat_minor": 2
}
